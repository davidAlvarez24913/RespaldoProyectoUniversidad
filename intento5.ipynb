﻿{
  "metadata": {
    "name": "KNN",
    "kernelspec": {
      "display_name": "Scala (2.11)",
      "language": "scala",
      "name": "scala211"
    },
    "language_info": {
      "codemirror_mode": "text/x-scala",
      "file_extension": ".scala",
      "mimetype": "text/x-scala",
      "name": "scala",
      "pygments_lexer": "scala"
    }
  },
  "nbformat": 4,
  "nbformat_minor": 2,
  "cells": [
    {
      "cell_type": "code",
      "execution_count": 0,
      "metadata": {
        "autoscroll": "auto"
      },
      "outputs": [],
      "source": "import org.apache.spark._\nimport org.apache.spark.sql.SQLContext\nimport org.apache.spark.sql.types._\nimport org.apache.spark.sql.functions._\nimport org.apache.spark.sql._\nimport org.apache.spark.ml.feature.VectorAssembler\nimport org.apache.spark.ml.clustering.KMeans\n"
    },
    {
      "cell_type": "code",
      "execution_count": 1,
      "metadata": {
        "autoscroll": "auto"
      },
      "outputs": [],
      "source": "val schema2 \u003d StructType(Array(\n    StructField(\"id_Persona\", StringType, true),\n    StructField(\"anio\", IntegerType, true),\n    StructField(\"mes\", IntegerType, true),\n    StructField(\"provincia\", StringType, true),\n    StructField(\"canton\", StringType, true),\n    StructField(\"area\", StringType, true),\n    StructField(\"genero\", StringType, true),\n    StructField(\"edad\", DoubleType, true),\n    StructField(\"estado_civil\", StringType, true),\n    StructField(\"nivel_de_instruccion\", StringType, true),\n    StructField(\"etnia\", StringType, true),\n    StructField(\"ingreso_laboral\", DoubleType, true),\n    StructField(\"condicion_actividad\", StringType, true),\n    StructField(\"sectorizacion\", StringType, true),\n    StructField(\"grupo_ocupacion\", StringType, true),\n    StructField(\"rama_actividad\", StringType, true),\n    StructField(\"factor_expansion\", StringType, true)\n  ))"
    },
    {
      "cell_type": "code",
      "execution_count": 2,
      "metadata": {
        "autoscroll": "auto"
      },
      "outputs": [],
      "source": "val df \u003d spark.read.schema(schema).option(\"header\",\"false\")\n    .option(\"delimiter\",\"\\t\")\n    .csv(\"/home/david/Datos_ENEMDU_PEA_v2.csv\")"
    },
    {
      "cell_type": "code",
      "execution_count": 3,
      "metadata": {
        "autoscroll": "auto"
      },
      "outputs": [],
      "source": "df.first()"
    },
    {
      "cell_type": "code",
      "execution_count": 4,
      "metadata": {
        "autoscroll": "auto"
      },
      "outputs": [],
      "source": "\nval header \u003d df.first()\nval dfh \u003d df.filter(_!\u003dheader)\ndfh.first()\n//val dfKNN \u003d dfh.schema(schema2)"
    },
    {
      "cell_type": "code",
      "execution_count": 5,
      "metadata": {
        "autoscroll": "auto"
      },
      "outputs": [],
      "source": "val   nuevoDF\u003d  dfh.select($\"id_Persona\",$\"edad\",$\"ingreso_laboral\")\nval finalDF \u003d nuevoDF.filter(\"ingreso_laboral is not null\")\nfinalDF.printSchema\n"
    },
    {
      "cell_type": "code",
      "execution_count": 6,
      "metadata": {
        "autoscroll": "auto"
      },
      "outputs": [],
      "source": "dfh.first()"
    },
    {
      "cell_type": "code",
      "execution_count": 7,
      "metadata": {
        "autoscroll": "auto"
      },
      "outputs": [],
      "source": "import org.apache.spark.ml.feature.VectorAssembler\nimport org.apache.spark.mllib.linalg.Vectors\n//arbol de recubrimiento minimo debe cubrir todos  los vertices\n\nval featureCols \u003d Array(\"edad\",\"ingreso_laboral\")\nval assembler \u003d new VectorAssembler().setInputCols(featureCols).setOutputCol(\"features\")\nval df2 \u003d assembler.transform(finalDF)\n//df2.show\n//assembler.getClass"
    },
    {
      "cell_type": "code",
      "execution_count": 8,
      "metadata": {
        "autoscroll": "auto"
      },
      "outputs": [],
      "source": "df2.show()"
    },
    {
      "cell_type": "code",
      "execution_count": 9,
      "metadata": {
        "autoscroll": "auto"
      },
      "outputs": [],
      "source": "val Array(trainingData, testData) \u003d df2.randomSplit(Array(0.7,0.3))"
    },
    {
      "cell_type": "code",
      "execution_count": 10,
      "metadata": {
        "autoscroll": "auto"
      },
      "outputs": [],
      "source": "val kmeans \u003d new KMeans().setK(8).setFeaturesCol(\"features\").setPredictionCol(\"prediction\")\nval model \u003d kmeans.fit(df2)\nval categories \u003d model.transform(testData)"
    },
    {
      "cell_type": "code",
      "execution_count": 11,
      "metadata": {
        "autoscroll": "auto"
      },
      "outputs": [],
      "source": "z.show(categories.groupBy(\"prediction\").count())"
    },
    {
      "cell_type": "code",
      "execution_count": 12,
      "metadata": {
        "autoscroll": "auto"
      },
      "outputs": [],
      "source": "z.show(categories.select($\"edad\",$\"ingreso_laboral\",$\"prediction\").groupBy(\"edad\",\"ingreso_laboral\",\"prediction\").agg(count(\"prediction\")).orderBy(\"edad\",\"ingreso_laboral\",\"prediction\"))"
    }
  ]
}
