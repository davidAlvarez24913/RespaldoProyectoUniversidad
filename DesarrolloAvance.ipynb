﻿{
  "metadata": {
    "name": "Una variable",
    "kernelspec": {
    "display_name": "scala",
      "language": "scala",
      "name": "spark2-scala"
    },
    "language_info": {
      "codemirror_mode": "text/x-scala",
      "file_extension": ".scala",
      "mimetype": "text/x-scala",
      "name": "scala",
      "pygments_lexer": "scala"
    }
  },
  "nbformat": 4,
  "nbformat_minor": 2,
  "cells": [
    {
      "cell_type": "markdown",
      "metadata": {},
      "source": "## Creación de Esquema para el volumen de datos"
    },
    {
      "cell_type": "code",
      "execution_count": 1,
      "metadata": {
        "autoscroll": "auto"
      },
      "outputs": [],
      "source": "import org.apache.spark.sql.types._\nval myDataSchema \u003d StructType(\n    Array(\n        StructField(\"id_persona\", DecimalType(26, 0), true), \n        StructField(\"anio\", IntegerType, true), \n        StructField(\"mes\", IntegerType, true), \n        StructField(\"provincia\", IntegerType, true), \n        StructField(\"canton\", IntegerType, true), \n        StructField(\"area\", StringType, true), \n        StructField(\"genero\", StringType, true), \n        StructField(\"edad\", IntegerType, true), \n        StructField(\"estado_civil\", StringType, true), \n        StructField(\"nivel_de_instruccion\", StringType, true), \n        StructField(\"etnia\", StringType, true), \n        StructField(\"ingreso_laboral\", IntegerType, true), \n        StructField(\"condicion_actividad\", StringType, true), \n        StructField(\"sectorizacion\", StringType, true), \n        StructField(\"grupo_ocupacion\", StringType, true), \n        StructField(\"rama_actividad\", StringType, true), \n        StructField(\"factor_expansion\", DoubleType, true)\n    ));"
    },
    {
      "cell_type": "markdown",
      "metadata": {},
      "source": " \n## Lectura de datos de archivo csv\nEliminar la columna  id_persona\nCambiar el codigó de  provincia por su nombre"
    },
    {
      "cell_type": "code",
      "execution_count": 3,
      "metadata": {
        "autoscroll": "auto"
      },
      "outputs": [],
      "source": "val df \u003d spark.read.option(\"myDataSchema\",\"true\").option(\"header\",\"true\").option(\"delimiter\",\"\\t\").csv(\"/home/david/Datos_ENEMDU_PEA_v2.csv\")\nval data2 \u003d df.drop(\"id_persona\")\nval pro\u003ddata2.withColumn(\"provincia\", when($\"provincia\" \u003d\u003d\u003d  1 , lit(\"Azuay\"))\n                .otherwise(when($\"provincia\" \u003d\u003d\u003d  2 , lit(\"Bovilar\"))\n                        .otherwise(when($\"provincia\" \u003d\u003d\u003d 3, lit(\"Caniar\"))\n                        .otherwise(when($\"provincia\" \u003d\u003d\u003d 4, lit(\"Carchi\"))\n                        .otherwise(when($\"provincia\" \u003d\u003d\u003d 5, lit(\"Cotopaxi\"))\n.otherwise(when($\"provincia\" \u003d\u003d\u003d 6, lit(\"Chimborazo\"))\n.otherwise(when($\"provincia\" \u003d\u003d\u003d 7, lit(\"El Oro\"))\n.otherwise(when($\"provincia\" \u003d\u003d\u003d 8, lit(\"Esmeraldas\"))\n.otherwise(when($\"provincia\" \u003d\u003d\u003d 9, lit(\"Guayas\"))\n.otherwise(when($\"provincia\" \u003d\u003d\u003d 10, lit(\"Imbabura\"))\n.otherwise(when($\"provincia\" \u003d\u003d\u003d 11, lit(\"Loja\"))\n.otherwise(when($\"provincia\" \u003d\u003d\u003d 12, lit(\"Los Rios\"))\n.otherwise(when($\"provincia\" \u003d\u003d\u003d 13, lit(\"Manabi\"))\n.otherwise(when($\"provincia\" \u003d\u003d\u003d 14, lit(\"Morona Santiago\"))\n.otherwise(when($\"provincia\" \u003d\u003d\u003d 15, lit(\"Napo\"))\n.otherwise(when($\"provincia\" \u003d\u003d\u003d 16, lit(\"Pastaza\"))\n.otherwise(when($\"provincia\" \u003d\u003d\u003d 17, lit(\"Pichincha\"))\n.otherwise(when($\"provincia\" \u003d\u003d\u003d 18, lit(\"Tungurahua\"))\n.otherwise(when($\"provincia\" \u003d\u003d\u003d 19, lit(\"Zamora Chinchipe\"))\n.otherwise(when($\"provincia\" \u003d\u003d\u003d 20, lit(\"Galapagos\"))\n.otherwise(when($\"provincia\" \u003d\u003d\u003d 21, lit(\"Sucumbios\"))\n.otherwise(when($\"provincia\" \u003d\u003d\u003d 22, lit(\"Orellana\"))\n.otherwise(when($\"provincia\" \u003d\u003d\u003d 23, lit(\"Santo Domingo de los Tsachilas\"))\n.otherwise(when($\"provincia\" \u003d\u003d\u003d 24, lit(\"Santa  Elena\"))\n)   ))  )))))))))))))))))))))\n"
    },
    {
      "cell_type": "markdown",
      "metadata": {},
      "source": "## Variable seleccionada provincia\n##### 1. ¿Porcentaje de personas encuentadas por provincia ordenanda de forma decendente?"
    },
    {
      "cell_type": "code",
      "execution_count": 5,
      "metadata": {
        "autoscroll": "auto"
      },
      "outputs": [],
      "source": "val met1 \u003d pro.select(\"provincia\").groupBy(\"provincia\").count().orderBy(desc(\"count\"))\nval total \u003d pro.count\nval met2 \u003d met1.select($\"provincia\",\u0027count.cast(\"Double\")/total *100)\n\nmet2.withColumnRenamed(met2.schema.last.name,\"Porcentaje\").withColumn(\"Porcentaje\", format_number(\u0027Porcentaje, 2)).show(24)\n\n"
    },
    {
      "cell_type": "markdown",
      "metadata": {},
      "source": "##### 2. ¿ Cuál es el procentaje de hombres y mujeres por año de la Provincia de Loja ?\n"
    },
    {
      "cell_type": "code",
      "execution_count": 7,
      "metadata": {
        "autoscroll": "auto"
      },
      "outputs": [],
      "source": "def provincia(provincia:String, anio:Int)\u003d{\n    val met1 \u003d pro.select(\"provincia\",\"anio\",\"genero\").filter($\"provincia\"  \u003d\u003d\u003d provincia \u0026\u0026 $\"anio\" \u003d\u003d\u003danio).groupBy(\"provincia\",\"genero\").count()//.show\n    val total \u003d pro.filter($\"provincia\" \u003d\u003d\u003d provincia \u0026\u0026 $\"anio\" \u003d\u003d\u003danio).count()\n    \n    val hombres  \u003d met1.filter(\u0027genero \u003d\u003d\u003d \"1 - Hombre\")\n    val mujeres \u003d  met1.filter(\u0027genero \u003d\u003d\u003d \"2 - Mujer\")\n    \n    val h \u003d hombres.select($\"provincia\",\u0027count.cast(\"Double\")/total *100)\n    val m  \u003dmujeres.select($\"provincia\",\u0027count.cast(\"Double\")/total *100)  \n    \n    val h1 \u003d  h.withColumnRenamed(h.schema.last.name,\"Hombres\").withColumn(\"Hombres\", format_number(\u0027Hombres, 2))\n    val m1 \u003d  m.withColumnRenamed(m.schema.last.name,\"Mujeres\").withColumn(\"Mujeres\", format_number(\u0027Mujeres, 2))\n    \n    val result \u003d h1.join( m1 ,Seq(\"provincia\") )//.withColumn(\"porcentaje\", format_number($\"porcentaje\", 3)\n    \n    result.show\n    \n    println(\" Análisis del  % género en el año : \"+anio+\", y provincia de: \"+ provincia.toUpperCase)\n}"
    },
    {
      "cell_type": "code",
      "execution_count": 8,
      "metadata": {
        "autoscroll": "auto"
      },
      "outputs": [],
      "source": "\n\nprovincia(\"Loja\",2015)"
    },
    {
      "cell_type": "code",
      "execution_count": 9,
      "metadata": {
        "autoscroll": "auto"
      },
      "outputs": [],
      "source": "\n\nprovincia(\"Loja\",2016)"
    },
    {
      "cell_type": "code",
      "execution_count": 10,
      "metadata": {
        "autoscroll": "auto"
      },
      "outputs": [],
      "source": "\n\nprovincia(\"Loja\",2017)"
    },
    {
      "cell_type": "code",
      "execution_count": 11,
      "metadata": {
        "autoscroll": "auto"
      },
      "outputs": [],
      "source": "\n\nprovincia(\"Pichincha\",2018)"
    },
    {
      "cell_type": "markdown",
      "metadata": {},
      "source": "##### 3. ¿ promedio de las edades en la provincia de Loja?"
    },
    {
      "cell_type": "code",
      "execution_count": 13,
      "metadata": {
        "autoscroll": "auto"
      },
      "outputs": [],
      "source": "pro.filter($\"provincia\" \u003d\u003d\u003d \"Loja\").agg(max(\"edad\"), min(\"edad\"), avg(\"edad\")).show"
    },
    {
      "cell_type": "markdown",
      "metadata": {},
      "source": "##### 3. ¿ promedio del factor de expansión en la provincia de Loja?\n\nEl factor de expansión se interpreta como la cantidad de personas en la población, que representa una persona en la muestra."
    },
    {
      "cell_type": "code",
      "execution_count": 15,
      "metadata": {
        "autoscroll": "auto"
      },
      "outputs": [],
      "source": "pro.filter($\"provincia\" \u003d\u003d\u003d \"Loja\").agg(max(\"factor_expansion\"), min(\"factor_expansion\"), avg(\"factor_expansion\"))\n.withColumn(\"max(factor_expansion)\",format_number($\"max(factor_expansion)\", 2))\n.withColumn(\"min(factor_expansion)\",format_number($\"min(factor_expansion)\", 2))\n.withColumn(\"avg(factor_expansion)\",format_number($\"avg(factor_expansion)\", 2)).show"
    },
    {
      "cell_type": "markdown",
      "metadata": {},
      "source": "##### 4. ¿Cuántos cantones tiene cada provincia?\nDatos extraidos de :\nhttps://www.google.com/url?sa\u003dt\u0026rct\u003dj\u0026q\u003d\u0026esrc\u003ds\u0026source\u003dweb\u0026cd\u003d\u0026ved\u003d2ahUKEwidhMqb_dbqAhVOdt8KHSxoA8UQFjABegQIBhAB\u0026url\u003dhttps%3A%2F%2Fanda.inec.gob.ec%2Fanda%2Findex.php%2Fcatalog%2F661%2Fdownload%2F11702\u0026usg\u003dAOvVaw2Cqnv7B08zI0r2eZvKDIW9\nURL2:\nhttps://www.google.com/url?sa\u003dt\u0026rct\u003dj\u0026q\u003d\u0026esrc\u003ds\u0026source\u003dweb\u0026cd\u003d\u0026ved\u003d2ahUKEwidhMqb_dbqAhVOdt8KHSxoA8UQFjACegQIAhAB\u0026url\u003dhttps%3A%2F%2Fwww.utmachala.edu.ec%2Farchivos%2FSNIESE%2FCodificacion_Provincia-Canton-Parroquia.xlsx\u0026usg\u003dAOvVaw0VQtBV7tbvU8-4I7_dvdlq"
    },
    {
      "cell_type": "code",
      "execution_count": 17,
      "metadata": {
        "autoscroll": "auto"
      },
      "outputs": [],
      "source": "def numCantones(canton: String){\nprintln(\"el número de cantonces de la provincia de: \" +canton+ \" ,son: \" +pro.select(\"provincia\",\"canton\").groupBy($\"provincia\",$\"canton\").count.filter(\u0027provincia  \u003d\u003d\u003d canton).distinct().count() )\n}"
    },
    {
      "cell_type": "code",
      "execution_count": 18,
      "metadata": {
        "autoscroll": "auto"
      },
      "outputs": [],
      "source": "val cantones \u003d pro.select(\"provincia\").distinct().collectAsList\n//cantones.get(19).toString.substring(1,cantones.get(19).toString.length-1)\n//val ncs\u003dpro.stat.freqItems(Array(\"provincia\")).collectAsList\n\nvar i\u003d 0\nwhile(i \u003c 24 ){\n    numCantones(cantones.get(i).toString.substring(1,cantones.get(i).toString.length-1))\n    i\u003d i+1;\n}\n\n    \n"
    },
    {
      "cell_type": "code",
      "execution_count": 19,
      "metadata": {
        "autoscroll": "auto"
      },
      "outputs": [],
      "source": "numCantones(\"Loja\")"
    },
    {
      "cell_type": "markdown",
      "metadata": {},
      "source": "##### 5.\n"
    },
    {
      "cell_type": "code",
      "execution_count": 21,
      "metadata": {
        "autoscroll": "auto"
      },
      "outputs": [],
      "source": "pro.stat.freqItems(Array(\"nivel_de_instruccion\")).show(false)"
    },
    {
      "cell_type": "code",
      "execution_count": 22,
      "metadata": {
        "autoscroll": "auto"
      },
      "outputs": [],
      "source": "def nivelInstruccion2(nInstrc:String, anio:Int)\u003d{\n    \n    val aux \u003d pro.select(\"nivel_de_instruccion\",\"ingreso_laboral\",\"anio\",\"genero\").filter($\"nivel_de_instruccion\"  \u003d\u003d\u003d nInstrc \u0026\u0026 $\"anio\" \u003d\u003d\u003danio).groupBy(\"nivel_de_instruccion\",\"genero\")\n        .agg(count(\u0027nivel_de_instruccion).as(\"count\"), avg(\u0027ingreso_laboral),  max(\u0027ingreso_laboral))\n        \n    val total \u003d pro.filter($\"nivel_de_instruccion\" \u003d\u003d\u003d nInstrc \u0026\u0026 $\"anio\" \u003d\u003d\u003danio).count()\n    \n    val hom \u003d aux.filter(\u0027genero \u003d\u003d\u003d \"1 - Hombre\").drop(\u0027genero).select($\"nivel_de_instruccion\",$\"avg(ingreso_laboral)\",$\"max(ingreso_laboral)\",$\"count\".cast(\"Double\")/total *100)\n    val hom2 \u003d hom.withColumnRenamed(hom.schema.last.name,\"Hombres\").withColumn(\"Hombres\", format_number(\u0027Hombres, 2) ).withColumnRenamed(\"avg(ingreso_laboral)\",\"SueldoPromedioHombres\")\n                .withColumn(\"SueldoPromedioHombres\", format_number(\u0027SueldoPromedioHombres, 2) )\n                .withColumnRenamed(\"max(ingreso_laboral)\",\"SueldoMaxHombres\")\n    \n    val muj \u003d aux.filter(\u0027genero \u003d!\u003d \"1 - Hombre\").drop(\u0027genero).select($\"nivel_de_instruccion\",$\"avg(ingreso_laboral)\",$\"max(ingreso_laboral)\",$\"count\".cast(\"Double\")/total *100)\n    val muj2 \u003d muj.withColumnRenamed(muj.schema.last.name,\"Mujeres\").withColumn(\"Mujeres\", format_number(\u0027Mujeres, 2) ).withColumnRenamed(\"avg(ingreso_laboral)\",\"SueldoPromedioMujeres\")\n                .withColumn(\"SueldoPromedioMujeres\", format_number(\u0027SueldoPromedioMujeres, 2) )\n                .withColumnRenamed(\"max(ingreso_laboral)\",\"SueldoMaxMujeres\")\n    \n    println(\" porcentaje basado en todas las personas con ese nivel de instrucción\")\n    hom2.join( muj2 , \"nivel_de_instruccion\").select($\"nivel_de_instruccion\",$\"Hombres\" ,$\"Mujeres\" ,$\"SueldoPromedioHombres\" ,$\"SueldoPromedioMujeres\" ,$\"SueldoMaxHombres\" ,$\"SueldoMaxMujeres\").show\n    \n    \n        \n}        "
    },
    {
      "cell_type": "code",
      "execution_count": 23,
      "metadata": {
        "autoscroll": "auto"
      },
      "outputs": [],
      "source": "nivelInstruccion2(\"10 - Post-grado\",2019)\n nivelInstruccion2(\"09 - Superior Universitario\",2019)"
    },
    {
      "cell_type": "code",
      "execution_count": 24,
      "metadata": {
        "autoscroll": "auto"
      },
      "outputs": [],
      "source": "def nivelInstruccion3(anio:Int)\u003d{\n    \n    val aux \u003d pro.select(\"nivel_de_instruccion\",\"ingreso_laboral\",\"anio\",\"genero\").filter($\"anio\" \u003d\u003d\u003danio).groupBy(\"nivel_de_instruccion\",\"genero\")\n        .agg(count(\u0027nivel_de_instruccion).as(\"count\"), avg(\u0027ingreso_laboral),  max(\u0027ingreso_laboral))\n        \n    val total \u003d pro.filter($\"anio\" \u003d\u003d\u003danio).count()\n    \n    val hom \u003d aux.filter(\u0027genero \u003d\u003d\u003d \"1 - Hombre\").drop(\u0027genero).select($\"nivel_de_instruccion\",$\"avg(ingreso_laboral)\",$\"max(ingreso_laboral)\",$\"count\".cast(\"Double\")/total *100)\n    val hom2 \u003d hom.withColumnRenamed(hom.schema.last.name,\"Hombres\").withColumn(\"Hombres\", format_number(\u0027Hombres, 2) ).withColumnRenamed(\"avg(ingreso_laboral)\",\"SueldoPromedioHombres\")\n                .withColumn(\"SueldoPromedioHombres\", format_number(\u0027SueldoPromedioHombres, 2) )\n                .withColumnRenamed(\"max(ingreso_laboral)\",\"SueldoMaxHombres\")\n    \n    val muj \u003d aux.filter(\u0027genero \u003d!\u003d \"1 - Hombre\").drop(\u0027genero).select($\"nivel_de_instruccion\",$\"avg(ingreso_laboral)\",$\"max(ingreso_laboral)\",$\"count\".cast(\"Double\")/total *100)\n    val muj2 \u003d muj.withColumnRenamed(muj.schema.last.name,\"Mujeres\").withColumn(\"Mujeres\", format_number(\u0027Mujeres, 2) ).withColumnRenamed(\"avg(ingreso_laboral)\",\"SueldoPromedioMujeres\")\n                .withColumn(\"SueldoPromedioMujeres\", format_number(\u0027SueldoPromedioMujeres, 2) )\n                .withColumnRenamed(\"max(ingreso_laboral)\",\"SueldoMaxMujeres\")\n    \n    \n    hom2.join( muj2 , \"nivel_de_instruccion\").select($\"nivel_de_instruccion\",$\"Hombres\" ,$\"Mujeres\" ,$\"SueldoPromedioHombres\" ,$\"SueldoPromedioMujeres\" ,$\"SueldoMaxHombres\" ,$\"SueldoMaxMujeres\").show(false)\n}     "
    },
    {
      "cell_type": "code",
      "execution_count": 25,
      "metadata": {
        "autoscroll": "auto"
      },
      "outputs": [],
      "source": "nivelInstruccion3(2019)\n        "
    },
    {
      "cell_type": "code",
      "execution_count": 26,
      "metadata": {
        "autoscroll": "auto"
      },
      "outputs": [],
      "source": "def nivelInstruccion4(province: String,nInstrc:String, anio:Int)\u003d{\n    \n    val aux \u003d pro.select(\"provincia\",\"nivel_de_instruccion\",\"ingreso_laboral\",\"anio\",\"genero\").filter($\"provincia\" \u003d\u003d\u003d province \u0026\u0026 $\"nivel_de_instruccion\"  \u003d\u003d\u003d nInstrc \u0026\u0026 $\"anio\" \u003d\u003d\u003danio).groupBy(\"provincia\",\"nivel_de_instruccion\",\"genero\")\n        .agg(count(\u0027nivel_de_instruccion).as(\"count\"), avg(\u0027ingreso_laboral),  max(\u0027ingreso_laboral))\n        \n    val total \u003d pro.filter($\"provincia\" \u003d\u003d\u003d province \u0026\u0026 $\"nivel_de_instruccion\" \u003d\u003d\u003d nInstrc \u0026\u0026 $\"anio\" \u003d\u003d\u003danio).count()\n    \n    val hom \u003d aux.filter(\u0027genero \u003d\u003d\u003d \"1 - Hombre\").drop(\u0027genero).select($\"provincia\",$\"nivel_de_instruccion\",$\"avg(ingreso_laboral)\",$\"max(ingreso_laboral)\",$\"count\".cast(\"Double\")/total *100)\n    val hom2 \u003d hom.withColumnRenamed(hom.schema.last.name,\"Hombres\").withColumn(\"Hombres\", format_number(\u0027Hombres, 2) ).withColumnRenamed(\"avg(ingreso_laboral)\",\"SueldoPromedioHombres\")\n                .withColumn(\"SueldoPromedioHombres\", format_number(\u0027SueldoPromedioHombres, 2) )\n                .withColumnRenamed(\"max(ingreso_laboral)\",\"SueldoMaxHombres\")\n    \n    val muj \u003d aux.filter(\u0027genero \u003d!\u003d \"1 - Hombre\").drop(\u0027genero).select($\"nivel_de_instruccion\",$\"avg(ingreso_laboral)\",$\"max(ingreso_laboral)\",$\"count\".cast(\"Double\")/total *100)\n    val muj2 \u003d muj.withColumnRenamed(muj.schema.last.name,\"Mujeres\").withColumn(\"Mujeres\", format_number(\u0027Mujeres, 2) ).withColumnRenamed(\"avg(ingreso_laboral)\",\"SueldoPromedioMujeres\")\n                .withColumn(\"SueldoPromedioMujeres\", format_number(\u0027SueldoPromedioMujeres, 2) )\n                .withColumnRenamed(\"max(ingreso_laboral)\",\"SueldoMaxMujeres\")\n    \n    \n    hom2.join( muj2 , \"nivel_de_instruccion\").select($\"provincia\",$\"nivel_de_instruccion\",$\"Hombres\" ,$\"Mujeres\" ,$\"SueldoPromedioHombres\" ,$\"SueldoPromedioMujeres\" ,$\"SueldoMaxHombres\" ,$\"SueldoMaxMujeres\").show\n}   "
    },
    {
      "cell_type": "code",
      "execution_count": 27,
      "metadata": {
        "autoscroll": "auto"
      },
      "outputs": [],
      "source": "nivelInstruccion4(\"Loja\",\"10 - Post-grado\",2019)"
    }
  ]
}
